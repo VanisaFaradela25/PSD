{
 "cells": [
  {
   "cell_type": "markdown",
   "id": "028d1e39",
   "metadata": {},
   "source": [
    "# KLASIFIKASI DATA MENGGUNAKAN KNIME - PROJECT PRA UTS"
   ]
  },
  {
   "cell_type": "markdown",
   "id": "f0fe964a",
   "metadata": {},
   "source": [
    "Pada project Pra UTS, ini saya akan memberikan langkah-langkah dalam penggunaan tools Knime untuk penarkan data dari PostgreSQL"
   ]
  },
  {
   "cell_type": "markdown",
   "id": "78cd88ea",
   "metadata": {},
   "source": [
    "## "
   ]
  }
 ],
 "metadata": {
  "language_info": {
   "codemirror_mode": {
    "name": "ipython",
    "version": 3
   },
   "file_extension": ".py",
   "mimetype": "text/x-python",
   "name": "python",
   "nbconvert_exporter": "python",
   "pygments_lexer": "ipython3",
   "version": "3.13.7"
  }
 },
 "nbformat": 4,
 "nbformat_minor": 5
}