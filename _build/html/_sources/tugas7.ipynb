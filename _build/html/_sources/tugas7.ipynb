{
 "cells": [
  {
   "cell_type": "markdown",
   "id": "028d1e39",
   "metadata": {},
   "source": [
    "# KLASIFIKASI DATA MENGGUNAKAN KNIME - PROJECT PRA UTS"
   ]
  },
  {
   "cell_type": "markdown",
   "id": "f0fe964a",
   "metadata": {},
   "source": [
    "Pada project Pra UTS, ini saya akan memberikan langkah-langkah dalam penggunaan tools Knime untuk penarkan data dari PostgreSQL"
   ]
  },
  {
   "cell_type": "markdown",
   "id": "78cd88ea",
   "metadata": {},
   "source": [
    "## "
   ]
  }
 ],
 "metadata": {
  "language_info": {
   "name": "python"
  }
 },
 "nbformat": 4,
 "nbformat_minor": 5
}
